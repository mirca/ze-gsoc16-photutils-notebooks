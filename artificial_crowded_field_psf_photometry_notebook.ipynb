{
 "cells": [
  {
   "cell_type": "markdown",
   "metadata": {},
   "source": [
    "# PSF Photometry in Crowded Fields with Photutils\n",
    "\n",
    "##### This notebook exemplifies the use of photutils.psf to perform point spread function photometry in crowded fields artificially created assuming that stars have a known Gaussian model"
   ]
  },
  {
   "cell_type": "markdown",
   "metadata": {},
   "source": [
    "## Create an artificial image\n",
    "\n",
    "##### Let's create an artificial image using photutils.datasets functionalities"
   ]
  },
  {
   "cell_type": "code",
   "execution_count": null,
   "metadata": {
    "collapsed": false
   },
   "outputs": [],
   "source": [
    "from photutils.datasets import make_random_gaussians\n",
    "from photutils.datasets import make_noise_image\n",
    "from photutils.datasets import make_gaussian_sources\n",
    "\n",
    "num_sources = 150\n",
    "min_flux = 500\n",
    "max_flux = 5000\n",
    "min_xmean = 16\n",
    "max_xmean = 240\n",
    "sigma_psf = 2.0\n",
    "starlist = make_random_gaussians(num_sources, [min_flux, max_flux],\n",
    "                                 [min_xmean, max_xmean],\n",
    "                                 [min_xmean, max_xmean],\n",
    "                                 [sigma_psf, sigma_psf],\n",
    "                                 [sigma_psf, sigma_psf],\n",
    "                                 random_state=123)\n",
    "shape = (256, 256)\n",
    "image = (make_gaussian_sources(shape, starlist) +\n",
    "         make_noise_image(shape, type='poisson', mean=2., random_state=123))\n",
    "print(starlist)"
   ]
  },
  {
   "cell_type": "markdown",
   "metadata": {},
   "source": [
    "## Initialize instances for the DAOPhotPSFPhotometry object\n",
    "\n",
    "##### In order to initiliaze a DAOPhotPSFPhotometry object, we have to load some other objects which will be used to perform psf photometry. More precisely, the required parts are:  a fitter (e.g., from astropy.fitting), a source detection (e.g., DAOStarFinder, from photutils.detection), a grouping functionality (e.g., DAOGroup from photutils.psf), a background estimator (e.g. MedianBackground, from photutils.background), and a psf model (e.g., IntegratedGaussianPRF from photutils.psf)."
   ]
  },
  {
   "cell_type": "code",
   "execution_count": null,
   "metadata": {
    "collapsed": true
   },
   "outputs": [],
   "source": [
    "from photutils.detection import DAOStarFinder\n",
    "from photutils.psf import DAOGroup\n",
    "from photutils.psf import IntegratedGaussianPRF\n",
    "from photutils.background import MedianBackground\n",
    "from photutils.background import StdBackgroundRMS\n",
    "from astropy.modeling.fitting import LevMarLSQFitter\n",
    "from astropy.stats import gaussian_sigma_to_fwhm\n",
    "\n",
    "bkgrms = StdBackgroundRMS(sigma=3.)\n",
    "\n",
    "std = bkgrms(image)\n",
    "\n",
    "daofind = DAOStarFinder(threshold=5.0*std,\n",
    "                        fwhm=sigma_psf*gaussian_sigma_to_fwhm)\n",
    "\n",
    "daogroup = DAOGroup(1.5*sigma_psf*gaussian_sigma_to_fwhm)\n",
    "\n",
    "median_bkg = MedianBackground(sigma=3.)\n",
    "\n",
    "psf_model = IntegratedGaussianPRF(sigma=sigma_psf)\n",
    "\n",
    "fitter = LevMarLSQFitter()"
   ]
  },
  {
   "cell_type": "markdown",
   "metadata": {},
   "source": [
    "## Perform photometry\n",
    "\n",
    "##### To actually perform psf photometry, we need first to initialize an DAOPhotPSFPhotometry object by passing along the objects loaded in the previous cell. Similarly to DAOGroup and DAOStarFinder, DAOPhotPSFPhotometry class was designed such that its objetcs are callable, which means that one can call them in the same fashion as calling a function. This, in fact, will call the appropriate method to perform photometry. "
   ]
  },
  {
   "cell_type": "code",
   "execution_count": null,
   "metadata": {
    "collapsed": false
   },
   "outputs": [],
   "source": [
    "from photutils.psf import DAOPhotPSFPhotometry\n",
    "\n",
    "daophot_photometry = DAOPhotPSFPhotometry(find=daofind, group=daogroup,\n",
    "                                          bkg=median_bkg, psf=psf_model,\n",
    "                                          fitter=LevMarLSQFitter(),\n",
    "                                          niters=2, fitshape=(11,11))\n",
    "result_tab, residual_image = daophot_photometry(image=image)"
   ]
  },
  {
   "cell_type": "markdown",
   "metadata": {},
   "source": [
    "## Plot original and residual images"
   ]
  },
  {
   "cell_type": "code",
   "execution_count": null,
   "metadata": {
    "collapsed": false
   },
   "outputs": [],
   "source": [
    "import numpy as np\n",
    "%matplotlib inline\n",
    "from matplotlib import rcParams\n",
    "import matplotlib.pyplot as plt\n",
    "rcParams['image.cmap'] = 'viridis'\n",
    "rcParams['image.aspect'] = 1  # to get images with square pixels\n",
    "rcParams['figure.figsize'] = (20,10)\n",
    "rcParams['image.interpolation'] = 'nearest'\n",
    "rcParams['image.origin'] = 'lower'\n",
    "\n",
    "plt.imshow(image)\n",
    "#for i, row in enumerate(starlist):\n",
    "#    plt.annotate(str(i+1), (row['x_mean'], row['y_mean']), \n",
    "#                 (5, 5), textcoords='offset points', \n",
    "#                 color='w')\n",
    "plt.title('Simulated data')\n",
    "plt.xlabel('x-position (pixel units)')\n",
    "plt.ylabel('y-position (pixel units)')"
   ]
  },
  {
   "cell_type": "code",
   "execution_count": null,
   "metadata": {
    "collapsed": false,
    "scrolled": false
   },
   "outputs": [],
   "source": [
    "plt.imshow(residual_image)\n",
    "plt.title('Residual')\n",
    "plt.xlabel('x-position (pixel units)')\n",
    "plt.ylabel('y-position (pixel units)')"
   ]
  },
  {
   "cell_type": "code",
   "execution_count": null,
   "metadata": {
    "collapsed": false
   },
   "outputs": [],
   "source": [
    "print(result_tab)"
   ]
  },
  {
   "cell_type": "markdown",
   "metadata": {},
   "source": [
    "## Photometry with fixed positions\n",
    "##### Now, let's perform photometry for the case that star positions are held fixed and one is interested only in fitting the flux."
   ]
  },
  {
   "cell_type": "code",
   "execution_count": null,
   "metadata": {
    "collapsed": true
   },
   "outputs": [],
   "source": [
    "psf_model.x_0.fixed = True\n",
    "psf_model.y_0.fixed = True"
   ]
  },
  {
   "cell_type": "code",
   "execution_count": null,
   "metadata": {
    "collapsed": true
   },
   "outputs": [],
   "source": [
    "positions = starlist['x_mean', 'y_mean']\n",
    "positions['x_mean'].name = 'x_0'\n",
    "positions['y_mean'].name = 'y_0'"
   ]
  },
  {
   "cell_type": "code",
   "execution_count": null,
   "metadata": {
    "collapsed": false
   },
   "outputs": [],
   "source": [
    "daophot_photometry = DAOPhotPSFPhotometry(group=daogroup,\n",
    "                                          bkg=median_bkg, psf=psf_model,\n",
    "                                          fitter=LevMarLSQFitter(),\n",
    "                                          fitshape=(11,11))\n",
    "result_tab, residual_image = daophot_photometry(image=image, positions=positions)"
   ]
  },
  {
   "cell_type": "code",
   "execution_count": null,
   "metadata": {
    "collapsed": false
   },
   "outputs": [],
   "source": [
    "plt.imshow(residual_image)\n",
    "plt.title('Residual')\n",
    "plt.xlabel('x-position (pixel units)')\n",
    "plt.ylabel('y-position (pixel units)')"
   ]
  },
  {
   "cell_type": "code",
   "execution_count": null,
   "metadata": {
    "collapsed": false
   },
   "outputs": [],
   "source": [
    "print(result_tab)"
   ]
  }
 ],
 "metadata": {
  "kernelspec": {
   "display_name": "Python 3",
   "language": "python",
   "name": "python3"
  },
  "language_info": {
   "codemirror_mode": {
    "name": "ipython",
    "version": 3
   },
   "file_extension": ".py",
   "mimetype": "text/x-python",
   "name": "python",
   "nbconvert_exporter": "python",
   "pygments_lexer": "ipython3",
   "version": "3.5.1"
  }
 },
 "nbformat": 4,
 "nbformat_minor": 0
}
